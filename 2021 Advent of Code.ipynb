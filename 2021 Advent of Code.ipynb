{
 "cells": [
  {
   "cell_type": "markdown",
   "id": "e2b274ca",
   "metadata": {},
   "source": [
    "# Day 1: Sonar Sweep\n",
    "\n",
    "## Part 1\n",
    "\n",
    "You're minding your own business on a ship at sea when the overboard alarm goes off! You rush to see if you can help. Apparently, one of the Elves tripped and accidentally sent the sleigh keys flying into the ocean!\n",
    "\n",
    "Before you know it, you're inside a submarine the Elves keep ready for situations like this. It's covered in Christmas lights (because of course it is), and it even has an experimental antenna that should be able to track the keys if you can boost its signal strength high enough; there's a little meter that indicates the antenna's signal strength by displaying 0-50 stars.\n",
    "\n",
    "Your instincts tell you that in order to save Christmas, you'll need to get all fifty stars by December 25th.\n",
    "\n",
    "Collect stars by solving puzzles. Two puzzles will be made available on each day in the Advent calendar; the second puzzle is unlocked when you complete the first. Each puzzle grants one star. Good luck!\n",
    "\n",
    "As the submarine drops below the surface of the ocean, it automatically performs a sonar sweep of the nearby sea floor. On a small screen, the sonar sweep report (your puzzle input) appears: each line is a measurement of the sea floor depth as the sweep looks further and further away from the submarine.\n",
    "\n",
    "For example, suppose you had the following report:\n",
    "\n",
    "199  \n",
    "200  \n",
    "208  \n",
    "210  \n",
    "200  \n",
    "207  \n",
    "240  \n",
    "269  \n",
    "260  \n",
    "263  \n",
    "\n",
    "This report indicates that, scanning outward from the submarine, the sonar sweep found depths of 199, 200, 208, 210, and so on.\n",
    "\n",
    "The first order of business is to figure out how quickly the depth increases, just so you know what you're dealing with - you never know if the keys will get carried into deeper water by an ocean current or a fish or something.\n",
    "\n",
    "To do this, count the number of times a depth measurement increases from the previous measurement. (There is no measurement before the first measurement.) In the example above, the changes are as follows:\n",
    "\n",
    "199 (N/A - no previous measurement)  \n",
    "200 (increased)  \n",
    "208 (increased)  \n",
    "210 (increased)  \n",
    "200 (decreased)  \n",
    "207 (increased)  \n",
    "240 (increased)  \n",
    "269 (increased)  \n",
    "260 (decreased)  \n",
    "263 (increased)  \n",
    "\n",
    "In this example, there are 7 measurements that are larger than the previous measurement.\n",
    "\n",
    "How many measurements are larger than the previous measurement?"
   ]
  },
  {
   "cell_type": "code",
   "execution_count": 1,
   "id": "155f6065",
   "metadata": {},
   "outputs": [
    {
     "name": "stdout",
     "output_type": "stream",
     "text": [
      "[ 180.  152.  159. ... 7484. 7488. 7497.]\n",
      "[   0.  180.  152. ... 7483. 7484. 7488.]\n",
      "[ True False  True ...  True  True  True]\n"
     ]
    },
    {
     "data": {
      "text/plain": [
       "1529"
      ]
     },
     "execution_count": 1,
     "metadata": {},
     "output_type": "execute_result"
    }
   ],
   "source": [
    "import numpy as np\n",
    "\n",
    "# Import data\n",
    "input = np.loadtxt(\"C:\\\\Dropbox\\\\programming\\\\2021adventofcode\\\\1\\\\input.txt\")\n",
    "input.shape\n",
    "\n",
    "# Create shift array\n",
    "input_shift = np.insert(input,0,0)\n",
    "input_shift = np.delete(input_shift,-1)\n",
    "\n",
    "print(input)\n",
    "print(input_shift)\n",
    "\n",
    "# Create boolean for measurement larger than previous measurement\n",
    "larger = input > input_shift\n",
    "print(larger)\n",
    "\n",
    "# Count Trues - 1 to get the answer, including excluding the first element with no prior value\n",
    "np.count_nonzero(larger) - 1"
   ]
  },
  {
   "cell_type": "markdown",
   "id": "d2e9fc1a",
   "metadata": {},
   "source": [
    "## Part 2\n",
    "\n",
    "Considering every single measurement isn't as useful as you expected: there's just too much noise in the data.\n",
    "\n",
    "Instead, consider sums of a three-measurement sliding window. Again considering the above example:\n",
    "\n",
    "|  |  |  |  |  |  |  |  |\n",
    "| --- | --- | --- | --- | --- | --- | --- | --- |\n",
    "| 199 | A |  \n",
    "| 200 | A | B |  \n",
    "| 208 | A | B | C |  \n",
    "| 210 |   | B | C | D |  \n",
    "| 200 | E |   | C | D |  \n",
    "| 207 | E | F |   | D |\n",
    "| 240 | E | F | G |    \n",
    "| 269 |   | F | G | H |  \n",
    "| 260 |   |   | G | H | \n",
    "| 263 |   |   |   | H |  \n",
    "\n",
    "Start by comparing the first and second three-measurement windows. The measurements in the first window are marked A (199, 200, 208); their sum is 199 + 200 + 208 = 607. The second window is marked B (200, 208, 210); its sum is 618. The sum of measurements in the second window is larger than the sum of the first, so this first comparison increased.\n",
    "\n",
    "Your goal now is to count the number of times the sum of measurements in this sliding window increases from the previous sum. So, compare A with B, then compare B with C, then C with D, and so on. Stop when there aren't enough measurements left to create a new three-measurement sum.\n",
    "\n",
    "In the above example, the sum of each three-measurement window is as follows:\n",
    "\n",
    "- A: 607 (N/A - no previous sum)  \n",
    "- B: 618 (increased)  \n",
    "- C: 618 (no change)  \n",
    "- D: 617 (decreased)  \n",
    "- E: 647 (increased)  \n",
    "- F: 716 (increased)  \n",
    "- G: 769 (increased)  \n",
    "- H: 792 (increased)  \n",
    "\n",
    "In this example, there are 5 sums that are larger than the previous sum.\n",
    "\n",
    "Consider sums of a three-measurement sliding window. How many sums are larger than the previous sum?"
   ]
  },
  {
   "cell_type": "markdown",
   "id": "f0e84b0f",
   "metadata": {},
   "source": [
    "**Plan**\n",
    "\n",
    "1. Sum three-measurement window for time *t*. \n",
    "2. Sum three-measurement window for time *t-1*. \n",
    "3. Subtract 2 from 1. "
   ]
  },
  {
   "cell_type": "code",
   "execution_count": 2,
   "id": "da74af21",
   "metadata": {},
   "outputs": [
    {
     "name": "stdout",
     "output_type": "stream",
     "text": [
      "The answer is 1567\n"
     ]
    }
   ],
   "source": [
    "# Sum three-measurement window for time t\n",
    "results = np.array(0)\n",
    "\n",
    "t = 1\n",
    "while t < (np.size(input) - 2):\n",
    "    \n",
    "    # Sum three-measurement window for t\n",
    "    sum_t = input[t] + input[t+1] + input[t+2]\n",
    "    \n",
    "    # Sum for t - 1\n",
    "    sum_t1 = input[t-1] + input[t] + input[t+1]\n",
    "    \n",
    "    # Test if t > t-1\n",
    "    test = sum_t > sum_t1\n",
    "    \n",
    "    # Store result\n",
    "    results = np.append(results, test)\n",
    "    \n",
    "    # Increment t\n",
    "    t = t + 1\n",
    "    \n",
    "print(\"The answer is\", np.count_nonzero(results))"
   ]
  },
  {
   "cell_type": "markdown",
   "id": "63b6f79f",
   "metadata": {},
   "source": [
    "# Day 2: Dive!\n",
    "\n",
    "## Part 1\n",
    "Now, you need to figure out how to pilot this thing.\n",
    "\n",
    "It seems like the submarine can take a series of commands like forward 1, down 2, or up 3:\n",
    "\n",
    "- forward X increases the horizontal position by X units.\n",
    "- down X increases the depth by X units.\n",
    "- up X decreases the depth by X units.\n",
    "\n",
    "Note that since you're on a submarine, down and up affect your depth, and so they have the opposite result of what you might expect.\n",
    "\n",
    "The submarine seems to already have a planned course (your puzzle input). You should probably figure out where it's going. For example:\n",
    "\n",
    "forward 5  \n",
    "down 5  \n",
    "forward 8  \n",
    "up 3  \n",
    "down 8  \n",
    "forward 2  \n",
    "\n",
    "Your horizontal position and depth both start at 0. The steps above would then modify them as follows:\n",
    "\n",
    "- forward 5 adds 5 to your horizontal position, a total of 5.\n",
    "- down 5 adds 5 to your depth, resulting in a value of 5.\n",
    "- forward 8 adds 8 to your horizontal position, a total of 13.\n",
    "- up 3 decreases your depth by 3, resulting in a value of 2.\n",
    "- down 8 adds 8 to your depth, resulting in a value of 10.\n",
    "- forward 2 adds 2 to your horizontal position, a total of 15.\n",
    "\n",
    "After following these instructions, you would have a horizontal position of 15 and a depth of 10. (Multiplying these together produces 150.)\n",
    "\n",
    "**Calculate the horizontal position and depth you would have after following the planned course. What do you get if you multiply your final horizontal position by your final depth?**"
   ]
  },
  {
   "cell_type": "markdown",
   "id": "d5f4b072",
   "metadata": {},
   "source": [
    "**Plan**\n",
    "\n",
    "*Note*: The data contain a text element and an integer element so they cannot be imported as a numpy array. Better to use a Pandas dataframe\n",
    "\n",
    "1. Import data as a Pandas dataframe using the space as delimiter"
   ]
  },
  {
   "cell_type": "code",
   "execution_count": 19,
   "id": "4fb7fb38",
   "metadata": {},
   "outputs": [
    {
     "data": {
      "text/html": [
       "<div>\n",
       "<style scoped>\n",
       "    .dataframe tbody tr th:only-of-type {\n",
       "        vertical-align: middle;\n",
       "    }\n",
       "\n",
       "    .dataframe tbody tr th {\n",
       "        vertical-align: top;\n",
       "    }\n",
       "\n",
       "    .dataframe thead th {\n",
       "        text-align: right;\n",
       "    }\n",
       "</style>\n",
       "<table border=\"1\" class=\"dataframe\">\n",
       "  <thead>\n",
       "    <tr style=\"text-align: right;\">\n",
       "      <th></th>\n",
       "      <th>Action</th>\n",
       "      <th>Value</th>\n",
       "    </tr>\n",
       "  </thead>\n",
       "  <tbody>\n",
       "    <tr>\n",
       "      <th>0</th>\n",
       "      <td>forward</td>\n",
       "      <td>1</td>\n",
       "    </tr>\n",
       "    <tr>\n",
       "      <th>1</th>\n",
       "      <td>forward</td>\n",
       "      <td>5</td>\n",
       "    </tr>\n",
       "    <tr>\n",
       "      <th>2</th>\n",
       "      <td>forward</td>\n",
       "      <td>8</td>\n",
       "    </tr>\n",
       "    <tr>\n",
       "      <th>3</th>\n",
       "      <td>down</td>\n",
       "      <td>9</td>\n",
       "    </tr>\n",
       "    <tr>\n",
       "      <th>4</th>\n",
       "      <td>down</td>\n",
       "      <td>7</td>\n",
       "    </tr>\n",
       "  </tbody>\n",
       "</table>\n",
       "</div>"
      ],
      "text/plain": [
       "    Action  Value\n",
       "0  forward      1\n",
       "1  forward      5\n",
       "2  forward      8\n",
       "3     down      9\n",
       "4     down      7"
      ]
     },
     "execution_count": 19,
     "metadata": {},
     "output_type": "execute_result"
    }
   ],
   "source": [
    "import pandas as pd\n",
    "\n",
    "# Import data\n",
    "input2 = pd.read_csv(\"C:\\\\Dropbox\\\\programming\\\\2021adventofcode\\\\2\\\\input2.txt\", sep=\" \", header=None)\n",
    "input2.columns = [\"Action\", \"Value\"]\n",
    "\n",
    "input2.head()"
   ]
  },
  {
   "cell_type": "code",
   "execution_count": 25,
   "id": "8f4e0c75",
   "metadata": {},
   "outputs": [
    {
     "data": {
      "text/html": [
       "<div>\n",
       "<style scoped>\n",
       "    .dataframe tbody tr th:only-of-type {\n",
       "        vertical-align: middle;\n",
       "    }\n",
       "\n",
       "    .dataframe tbody tr th {\n",
       "        vertical-align: top;\n",
       "    }\n",
       "\n",
       "    .dataframe thead th {\n",
       "        text-align: right;\n",
       "    }\n",
       "</style>\n",
       "<table border=\"1\" class=\"dataframe\">\n",
       "  <thead>\n",
       "    <tr style=\"text-align: right;\">\n",
       "      <th></th>\n",
       "      <th>Value</th>\n",
       "    </tr>\n",
       "    <tr>\n",
       "      <th>Action</th>\n",
       "      <th></th>\n",
       "    </tr>\n",
       "  </thead>\n",
       "  <tbody>\n",
       "    <tr>\n",
       "      <th>down</th>\n",
       "      <td>2036</td>\n",
       "    </tr>\n",
       "    <tr>\n",
       "      <th>forward</th>\n",
       "      <td>1927</td>\n",
       "    </tr>\n",
       "    <tr>\n",
       "      <th>up</th>\n",
       "      <td>945</td>\n",
       "    </tr>\n",
       "  </tbody>\n",
       "</table>\n",
       "</div>"
      ],
      "text/plain": [
       "         Value\n",
       "Action        \n",
       "down      2036\n",
       "forward   1927\n",
       "up         945"
      ]
     },
     "execution_count": 25,
     "metadata": {},
     "output_type": "execute_result"
    }
   ],
   "source": [
    "# Summary statistics\n",
    "input2[[\"Action\",\"Value\"]].groupby(\"Action\").sum()"
   ]
  },
  {
   "cell_type": "markdown",
   "id": "6b9c141c",
   "metadata": {},
   "source": [
    "These results show the total movement in each of the three directions needed to solve the problem.\n",
    "\n",
    "Horizontal position and depth both start at 0. Horizontal position only increases, so the final position is 0 + 1927 = 1927."
   ]
  },
  {
   "cell_type": "code",
   "execution_count": 26,
   "id": "590afe36",
   "metadata": {},
   "outputs": [
    {
     "data": {
      "text/plain": [
       "1091"
      ]
     },
     "execution_count": 26,
     "metadata": {},
     "output_type": "execute_result"
    }
   ],
   "source": [
    "# Final depth\n",
    "0 + 2036 - 945"
   ]
  },
  {
   "cell_type": "markdown",
   "id": "737afbef",
   "metadata": {},
   "source": [
    "The requested solution is the final horizontal position multiplied by the final depth:"
   ]
  },
  {
   "cell_type": "code",
   "execution_count": 27,
   "id": "7bb49421",
   "metadata": {},
   "outputs": [
    {
     "data": {
      "text/plain": [
       "2102357"
      ]
     },
     "execution_count": 27,
     "metadata": {},
     "output_type": "execute_result"
    }
   ],
   "source": [
    "1091 * 1927"
   ]
  },
  {
   "cell_type": "markdown",
   "id": "a4ad1b8d",
   "metadata": {},
   "source": [
    "## Part 2\n",
    "\n",
    "Based on your calculations, the planned course doesn't seem to make any sense. You find the submarine manual and discover that the process is actually slightly more complicated.\n",
    "\n",
    "In addition to horizontal position and depth, you'll also need to track a third value, aim, which also starts at 0. The commands also mean something entirely different than you first thought:\n",
    "\n",
    "- down X increases your aim by X units.\n",
    "- up X decreases your aim by X units.\n",
    "- forward X does two things:\n",
    "    - It increases your horizontal position by X units.\n",
    "    - It increases your depth by your aim multiplied by X.\n",
    "    - Again note that since you're on a submarine, down and up do the opposite of what you might expect: \"down\" means aiming in the positive direction.\n",
    "\n",
    "Now, the above example does something different:\n",
    "\n",
    "- forward 5 adds 5 to your horizontal position, a total of 5. Because your aim is 0, your depth does not change.\n",
    "- down 5 adds 5 to your aim, resulting in a value of 5.\n",
    "- forward 8 adds 8 to your horizontal position, a total of 13. Because your aim is 5, your depth increases by 8*5=40.\n",
    "- up 3 decreases your aim by 3, resulting in a value of 2.\n",
    "- down 8 adds 8 to your aim, resulting in a value of 10.\n",
    "- forward 2 adds 2 to your horizontal position, a total of 15. Because your aim is 10, your depth increases by 2*10=20 to a total of 60.\n",
    "\n",
    "After following these new instructions, you would have a horizontal position of 15 and a depth of 60. (Multiplying these produces 900.)\n",
    "\n",
    "Using this new interpretation of the commands, calculate the horizontal position and depth you would have after following the planned course. **What do you get if you multiply your final horizontal position by your final depth?**"
   ]
  },
  {
   "cell_type": "markdown",
   "id": "5dab50c6",
   "metadata": {},
   "source": [
    "**Plan**\n",
    "- Final horizontal position is the same: 1927\n",
    "- Final aim is the sum of down minus the sum of up, which is the same as the previous final depth: 1091\n",
    "- Final depth is now contingent on the specific change in horizontal position, so final sums cannot be used to calculate it."
   ]
  },
  {
   "cell_type": "code",
   "execution_count": 95,
   "id": "f5daf6d6",
   "metadata": {},
   "outputs": [
    {
     "name": "stdout",
     "output_type": "stream",
     "text": [
      "Aim is 1091\n",
      "Depth is 1090312\n",
      "Horizontal is 1927\n",
      "Answer is 2101031224\n"
     ]
    }
   ],
   "source": [
    "# Final depth\n",
    "aim = 0\n",
    "horizontal = 0\n",
    "depth = 0\n",
    "\n",
    "for ind in input2.index:\n",
    "    \n",
    "    if input2['Action'][ind] == \"down\":\n",
    "        aim = aim + input2['Value'][ind]\n",
    "        \n",
    "    elif input2['Action'][ind] == \"up\":\n",
    "        aim = aim - input2['Value'][ind]\n",
    "        \n",
    "    elif input2['Action'][ind] == \"forward\":\n",
    "        horizontal = horizontal + input2['Value'][ind]\n",
    "        depth = depth + (aim * input2['Value'][ind])\n",
    "        \n",
    "# Print final values\n",
    "print(\"Aim is\", aim)\n",
    "print(\"Depth is\", depth)\n",
    "print(\"Horizontal is\", horizontal)\n",
    "\n",
    "# Print answer\n",
    "print(\"Answer is\", horizontal * depth)"
   ]
  },
  {
   "cell_type": "code",
   "execution_count": 93,
   "id": "25b4f464",
   "metadata": {},
   "outputs": [
    {
     "data": {
      "text/html": [
       "<div>\n",
       "<style scoped>\n",
       "    .dataframe tbody tr th:only-of-type {\n",
       "        vertical-align: middle;\n",
       "    }\n",
       "\n",
       "    .dataframe tbody tr th {\n",
       "        vertical-align: top;\n",
       "    }\n",
       "\n",
       "    .dataframe thead th {\n",
       "        text-align: right;\n",
       "    }\n",
       "</style>\n",
       "<table border=\"1\" class=\"dataframe\">\n",
       "  <thead>\n",
       "    <tr style=\"text-align: right;\">\n",
       "      <th></th>\n",
       "      <th>Action</th>\n",
       "      <th>Value</th>\n",
       "    </tr>\n",
       "  </thead>\n",
       "  <tbody>\n",
       "    <tr>\n",
       "      <th>0</th>\n",
       "      <td>forward</td>\n",
       "      <td>1</td>\n",
       "    </tr>\n",
       "    <tr>\n",
       "      <th>1</th>\n",
       "      <td>forward</td>\n",
       "      <td>5</td>\n",
       "    </tr>\n",
       "    <tr>\n",
       "      <th>2</th>\n",
       "      <td>forward</td>\n",
       "      <td>8</td>\n",
       "    </tr>\n",
       "    <tr>\n",
       "      <th>3</th>\n",
       "      <td>down</td>\n",
       "      <td>9</td>\n",
       "    </tr>\n",
       "    <tr>\n",
       "      <th>4</th>\n",
       "      <td>down</td>\n",
       "      <td>7</td>\n",
       "    </tr>\n",
       "    <tr>\n",
       "      <th>5</th>\n",
       "      <td>forward</td>\n",
       "      <td>2</td>\n",
       "    </tr>\n",
       "  </tbody>\n",
       "</table>\n",
       "</div>"
      ],
      "text/plain": [
       "    Action  Value\n",
       "0  forward      1\n",
       "1  forward      5\n",
       "2  forward      8\n",
       "3     down      9\n",
       "4     down      7\n",
       "5  forward      2"
      ]
     },
     "execution_count": 93,
     "metadata": {},
     "output_type": "execute_result"
    }
   ],
   "source": [
    "input2.head(n=6)"
   ]
  }
 ],
 "metadata": {
  "kernelspec": {
   "display_name": "Python 3",
   "language": "python",
   "name": "python3"
  },
  "language_info": {
   "codemirror_mode": {
    "name": "ipython",
    "version": 3
   },
   "file_extension": ".py",
   "mimetype": "text/x-python",
   "name": "python",
   "nbconvert_exporter": "python",
   "pygments_lexer": "ipython3",
   "version": "3.8.8"
  }
 },
 "nbformat": 4,
 "nbformat_minor": 5
}
